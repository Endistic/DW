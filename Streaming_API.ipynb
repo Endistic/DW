{
  "nbformat": 4,
  "nbformat_minor": 0,
  "metadata": {
    "colab": {
      "name": "Streaming API.ipynb",
      "provenance": [],
      "authorship_tag": "ABX9TyMm+2l000ngm15tXZ4YDS5t",
      "include_colab_link": true
    },
    "kernelspec": {
      "name": "python3",
      "display_name": "Python 3"
    }
  },
  "cells": [
    {
      "cell_type": "markdown",
      "metadata": {
        "id": "view-in-github",
        "colab_type": "text"
      },
      "source": [
        "<a href=\"https://colab.research.google.com/github/Endistic/DW/blob/master/Streaming_API.ipynb\" target=\"_parent\"><img src=\"https://colab.research.google.com/assets/colab-badge.svg\" alt=\"Open In Colab\"/></a>"
      ]
    },
    {
      "cell_type": "code",
      "metadata": {
        "id": "1bnT976-UEFD",
        "colab_type": "code",
        "colab": {
          "base_uri": "https://localhost:8080/",
          "height": 411
        },
        "outputId": "fe64833e-10c0-4987-8241-c8e2873e71c3"
      },
      "source": [
        "### install tweepy\n",
        "pip install git+https://github.com/tweepy/tweepy.git"
      ],
      "execution_count": 2,
      "outputs": [
        {
          "output_type": "stream",
          "text": [
            "Collecting git+https://github.com/tweepy/tweepy.git\n",
            "  Cloning https://github.com/tweepy/tweepy.git to /tmp/pip-req-build-csra64z2\n",
            "  Running command git clone -q https://github.com/tweepy/tweepy.git /tmp/pip-req-build-csra64z2\n",
            "Requirement already satisfied: requests[socks]>=2.11.1 in /usr/local/lib/python3.6/dist-packages (from tweepy==3.8.0) (2.21.0)\n",
            "Requirement already satisfied: requests_oauthlib>=0.7.0 in /usr/local/lib/python3.6/dist-packages (from tweepy==3.8.0) (1.3.0)\n",
            "Requirement already satisfied: six>=1.10.0 in /usr/local/lib/python3.6/dist-packages (from tweepy==3.8.0) (1.12.0)\n",
            "Requirement already satisfied: certifi>=2017.4.17 in /usr/local/lib/python3.6/dist-packages (from requests[socks]>=2.11.1->tweepy==3.8.0) (2019.11.28)\n",
            "Requirement already satisfied: idna<2.9,>=2.5 in /usr/local/lib/python3.6/dist-packages (from requests[socks]>=2.11.1->tweepy==3.8.0) (2.8)\n",
            "Requirement already satisfied: urllib3<1.25,>=1.21.1 in /usr/local/lib/python3.6/dist-packages (from requests[socks]>=2.11.1->tweepy==3.8.0) (1.24.3)\n",
            "Requirement already satisfied: chardet<3.1.0,>=3.0.2 in /usr/local/lib/python3.6/dist-packages (from requests[socks]>=2.11.1->tweepy==3.8.0) (3.0.4)\n",
            "Requirement already satisfied: PySocks!=1.5.7,>=1.5.6; extra == \"socks\" in /usr/local/lib/python3.6/dist-packages (from requests[socks]>=2.11.1->tweepy==3.8.0) (1.7.1)\n",
            "Requirement already satisfied: oauthlib>=3.0.0 in /usr/local/lib/python3.6/dist-packages (from requests_oauthlib>=0.7.0->tweepy==3.8.0) (3.1.0)\n",
            "Building wheels for collected packages: tweepy\n",
            "  Building wheel for tweepy (setup.py) ... \u001b[?25l\u001b[?25hdone\n",
            "  Created wheel for tweepy: filename=tweepy-3.8.0-py2.py3-none-any.whl size=29946 sha256=d3af8127586081207e260d607fb3242854344355263815a5d102b020af326bba\n",
            "  Stored in directory: /tmp/pip-ephem-wheel-cache-3ag879h2/wheels/d8/ce/e1/639ea9fcdbdb5affae832e0c6692ce6dafae3fdf1fdd40ec93\n",
            "Successfully built tweepy\n",
            "Installing collected packages: tweepy\n",
            "  Found existing installation: tweepy 3.6.0\n",
            "    Uninstalling tweepy-3.6.0:\n",
            "      Successfully uninstalled tweepy-3.6.0\n",
            "Successfully installed tweepy-3.8.0\n"
          ],
          "name": "stdout"
        }
      ]
    },
    {
      "cell_type": "code",
      "metadata": {
        "id": "MdYhnbIIUYUH",
        "colab_type": "code",
        "colab": {}
      },
      "source": [
        "### import the necessary methods from tweepy library\n",
        "from tweepy.streaming import StreamListener\n",
        "from tweepy import OAuthHandler\n",
        "from tweepy import Stream\n",
        "import re\n"
      ],
      "execution_count": 0,
      "outputs": []
    },
    {
      "cell_type": "code",
      "metadata": {
        "id": "lEhax7peVHWC",
        "colab_type": "code",
        "colab": {}
      },
      "source": [
        "### Enter Twitter API Keys\n",
        "access_token = \"ENTER ACCESS TOKEN\"\n",
        "access_token_secret = \"ENTER ACCESS TOKEN SECRET\"\n",
        "consumer_key = \"ENTER CONSUMER KEY\"\n",
        "consumer_secret = \"ENTER CONSUMER SECRET\""
      ],
      "execution_count": 0,
      "outputs": []
    },
    {
      "cell_type": "code",
      "metadata": {
        "id": "E6AsSC9sX0Ty",
        "colab_type": "code",
        "colab": {}
      },
      "source": [
        "### Create tracklist with the words that will be searched for\n",
        "tracklist = ['#Example', '#example', '#br']\n",
        "### Initialize Global variable\n",
        "tweet_count = 0\n",
        "### Input number of tweets to be downloaded\n",
        "n_tweets = 10\n",
        "\n"
      ],
      "execution_count": 0,
      "outputs": []
    },
    {
      "cell_type": "code",
      "metadata": {
        "id": "6R_D-IgeVOdS",
        "colab_type": "code",
        "colab": {}
      },
      "source": [
        "### Create the class that will handle the tweet stream\n",
        "class StdOutListener(StreamListener):\n",
        "      \n",
        "    def on_data(self, data):   \n",
        "      global tweet_count\n",
        "      global n_tweets\n",
        "      global stream\n",
        "\n",
        "      if tweet_count < n_tweets:\n",
        "        print(data)\n",
        "        tweet_count += 1\n",
        "        return  True\n",
        "      else:\n",
        "            stream.disconnect()\n",
        "    def on_error(self, status):\n",
        "        print(status)"
      ],
      "execution_count": 0,
      "outputs": []
    },
    {
      "cell_type": "code",
      "metadata": {
        "id": "8Xv1ETnVVkSN",
        "colab_type": "code",
        "colab": {}
      },
      "source": [
        "### Handle Twitter authetification and the connection to Twitter Streaming API\n",
        "if __name__ == '__main__':  \n",
        "    l = StdOutListener()\n",
        "    auth = OAuthHandler(consumer_key, consumer_secret)\n",
        "    auth.set_access_token(access_token, access_token_secret)\n",
        "    stream = Stream(auth, l)\n",
        "    ##stream.filter(track=tracklist)"
      ],
      "execution_count": 0,
      "outputs": []
    },
    {
      "cell_type": "code",
      "metadata": {
        "id": "gmef53-LVtQS",
        "colab_type": "code",
        "colab": {}
      },
      "source": [
        "### import json for saving data to Data Frame \n",
        "import json\n",
        "import pandas as pd\n"
      ],
      "execution_count": 0,
      "outputs": []
    },
    {
      "cell_type": "code",
      "metadata": {
        "id": "GApkiJLFcVOw",
        "colab_type": "code",
        "colab": {}
      },
      "source": [
        "### Create Path saving File\n",
        "tweets_data_path = \"twitter_data.txt\"  \n",
        "tweets_data = []  \n",
        "## tweets_file = open(tweets_data_path, \"r\")  \n",
        "## for line in tweets_file:  \n",
        "    ## try:  \n",
        "        ## tweet = json.loads(line)  \n",
        "        ## tweets_data.append(tweet)  \n",
        "    ## except:  \n",
        "        ## continue\n",
        "tweets = pd.DataFrame()\n",
        "tweets['text'] = list(map(lambda tweet: tweet['text'], tweets_data))\n",
        "tweets['Username'] = list(map(lambda tweet: tweet['user']['screen_name'], tweets_data))\n",
        "tweets['Timestamp'] = list(map(lambda tweet: tweet['created_at'], tweets_data))\n",
        "# tweets.head()"
      ],
      "execution_count": 0,
      "outputs": []
    },
    {
      "cell_type": "code",
      "metadata": {
        "id": "Og7_qIeUc7JZ",
        "colab_type": "code",
        "colab": {}
      },
      "source": [
        "### Data Frame to CSV\n",
        "tweets_df = tweets\n",
        "tweets_df.to_csv (r'C:\\Users\\Endy\\Desktop\\tweets_dataframe.csv', index = False, header=True)\n",
        "print(tweets_df)"
      ],
      "execution_count": 0,
      "outputs": []
    },
    {
      "cell_type": "markdown",
      "metadata": {
        "id": "PxMmQpS4dUfK",
        "colab_type": "text"
      },
      "source": [
        "### Next Step Data to Analyze\n"
      ]
    },
    {
      "cell_type": "code",
      "metadata": {
        "id": "CUXJ6f8hdc36",
        "colab_type": "code",
        "colab": {}
      },
      "source": [
        ""
      ],
      "execution_count": 0,
      "outputs": []
    }
  ]
}