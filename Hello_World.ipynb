{
  "nbformat": 4,
  "nbformat_minor": 0,
  "metadata": {
    "colab": {
      "name": "Hello World.ipynb",
      "provenance": [],
      "collapsed_sections": [],
      "include_colab_link": true
    },
    "kernelspec": {
      "name": "python3",
      "display_name": "Python 3"
    }
  },
  "cells": [
    {
      "cell_type": "markdown",
      "metadata": {
        "id": "view-in-github",
        "colab_type": "text"
      },
      "source": [
        "<a href=\"https://colab.research.google.com/github/Endistic/DW/blob/master/Hello_World.ipynb\" target=\"_parent\"><img src=\"https://colab.research.google.com/assets/colab-badge.svg\" alt=\"Open In Colab\"/></a>"
      ]
    },
    {
      "cell_type": "markdown",
      "metadata": {
        "id": "6z5t39I6iYHa",
        "colab_type": "text"
      },
      "source": [
        "# Hello PyThon\n",
        "## Hello Python"
      ]
    },
    {
      "cell_type": "code",
      "metadata": {
        "id": "6G-xwRb7h4lY",
        "colab_type": "code",
        "colab": {
          "base_uri": "https://localhost:8080/",
          "height": 34
        },
        "outputId": "9c869aa5-0fbf-4518-d11b-1e627463bd2e"
      },
      "source": [
        "print(\"Hello World\")"
      ],
      "execution_count": 1,
      "outputs": [
        {
          "output_type": "stream",
          "text": [
            "Hello World\n"
          ],
          "name": "stdout"
        }
      ]
    },
    {
      "cell_type": "code",
      "metadata": {
        "id": "I3_zjseXi52c",
        "colab_type": "code",
        "colab": {}
      },
      "source": [
        ""
      ],
      "execution_count": 0,
      "outputs": []
    },
    {
      "cell_type": "markdown",
      "metadata": {
        "id": "GxXWamiHjQbb",
        "colab_type": "text"
      },
      "source": [
        "# Declare Variable\n",
        "## How to declare variable in python"
      ]
    },
    {
      "cell_type": "code",
      "metadata": {
        "id": "5ni5i4-Bjb_m",
        "colab_type": "code",
        "colab": {
          "base_uri": "https://localhost:8080/",
          "height": 34
        },
        "outputId": "b4ae964e-8256-4c5b-cd0d-3894c01b422c"
      },
      "source": [
        "score = 100\n",
        "name = \" Big\"\n",
        "print(name + \"_score is \" + str(score))"
      ],
      "execution_count": 4,
      "outputs": [
        {
          "output_type": "stream",
          "text": [
            " Big_score is 100\n"
          ],
          "name": "stdout"
        }
      ]
    },
    {
      "cell_type": "code",
      "metadata": {
        "id": "99--1bf6jvXe",
        "colab_type": "code",
        "colab": {
          "base_uri": "https://localhost:8080/",
          "height": 34
        },
        "outputId": "f5d84339-3652-4f60-e267-76824de83ca9"
      },
      "source": [
        "a = 2\n",
        "b = 3\n",
        "c = a + b\n",
        "print(c)"
      ],
      "execution_count": 7,
      "outputs": [
        {
          "output_type": "stream",
          "text": [
            "5\n"
          ],
          "name": "stdout"
        }
      ]
    },
    {
      "cell_type": "code",
      "metadata": {
        "id": "rnLpjb68kbku",
        "colab_type": "code",
        "colab": {}
      },
      "source": [
        ""
      ],
      "execution_count": 0,
      "outputs": []
    },
    {
      "cell_type": "markdown",
      "metadata": {
        "id": "k5asZOn1ndjN",
        "colab_type": "text"
      },
      "source": [
        "# List\n",
        "## How to use list"
      ]
    },
    {
      "cell_type": "code",
      "metadata": {
        "id": "7QZ3xgVZnmRd",
        "colab_type": "code",
        "colab": {
          "base_uri": "https://localhost:8080/",
          "height": 34
        },
        "outputId": "98d3594c-050b-4350-b0e3-49b1f0831bbe"
      },
      "source": [
        "mylist = []\n",
        "mylist.append(\"Big\")\n",
        "mylist.append(200)\n",
        "mylist"
      ],
      "execution_count": 11,
      "outputs": [
        {
          "output_type": "execute_result",
          "data": {
            "text/plain": [
              "['Big', 200]"
            ]
          },
          "metadata": {
            "tags": []
          },
          "execution_count": 11
        }
      ]
    },
    {
      "cell_type": "code",
      "metadata": {
        "id": "3r1yEWzTn7Ix",
        "colab_type": "code",
        "colab": {
          "base_uri": "https://localhost:8080/",
          "height": 34
        },
        "outputId": "8add3a32-fbf5-4164-c90a-9911c3a6d677"
      },
      "source": [
        "len(mylist)\n"
      ],
      "execution_count": 12,
      "outputs": [
        {
          "output_type": "execute_result",
          "data": {
            "text/plain": [
              "2"
            ]
          },
          "metadata": {
            "tags": []
          },
          "execution_count": 12
        }
      ]
    },
    {
      "cell_type": "code",
      "metadata": {
        "id": "jRQO9_arn_8M",
        "colab_type": "code",
        "colab": {}
      },
      "source": [
        ""
      ],
      "execution_count": 0,
      "outputs": []
    },
    {
      "cell_type": "markdown",
      "metadata": {
        "id": "Iyj4xh1Joje1",
        "colab_type": "text"
      },
      "source": [
        "#If-ELse"
      ]
    },
    {
      "cell_type": "code",
      "metadata": {
        "id": "AwbSPn9holbc",
        "colab_type": "code",
        "colab": {
          "base_uri": "https://localhost:8080/",
          "height": 34
        },
        "outputId": "57abfa8e-aa78-4267-edf9-bff0302e2ae7"
      },
      "source": [
        "if mylist[1] > 100 :\n",
        "  print(\"Pass\")"
      ],
      "execution_count": 13,
      "outputs": [
        {
          "output_type": "stream",
          "text": [
            "Pass\n"
          ],
          "name": "stdout"
        }
      ]
    },
    {
      "cell_type": "code",
      "metadata": {
        "id": "kxWsy8GNpEWE",
        "colab_type": "code",
        "colab": {
          "base_uri": "https://localhost:8080/",
          "height": 34
        },
        "outputId": "e874384d-77ad-406a-d123-ba1bce7b4ae4"
      },
      "source": [
        "if mylist[1] > 100 :\n",
        " name = mylist[0]\n",
        " score = mylist[1]\n",
        " print(name+\" \"+str(score))\n"
      ],
      "execution_count": 18,
      "outputs": [
        {
          "output_type": "stream",
          "text": [
            "Big 200\n"
          ],
          "name": "stdout"
        }
      ]
    },
    {
      "cell_type": "code",
      "metadata": {
        "id": "70y0ct27pFsc",
        "colab_type": "code",
        "colab": {
          "base_uri": "https://localhost:8080/",
          "height": 34
        },
        "outputId": "c404cd46-22de-43a1-a6d9-6f7e3fb5d94a"
      },
      "source": [
        "score = 5\n",
        "if score > 50 :\n",
        "  print(\"A\")\n",
        "elif score > 20 :\n",
        "  print(\"B\")\n",
        "else :\n",
        "  print(\"C\")\n",
        "  if score == 0 :\n",
        "    print(F)"
      ],
      "execution_count": 19,
      "outputs": [
        {
          "output_type": "stream",
          "text": [
            "C\n"
          ],
          "name": "stdout"
        }
      ]
    },
    {
      "cell_type": "code",
      "metadata": {
        "id": "rz_1dmihqUG4",
        "colab_type": "code",
        "colab": {}
      },
      "source": [
        ""
      ],
      "execution_count": 0,
      "outputs": []
    },
    {
      "cell_type": "markdown",
      "metadata": {
        "id": "vDUifyC2qXwj",
        "colab_type": "text"
      },
      "source": [
        "# For loop \n",
        "## How to use for loop"
      ]
    },
    {
      "cell_type": "code",
      "metadata": {
        "id": "FELtaQSQqgaL",
        "colab_type": "code",
        "colab": {
          "base_uri": "https://localhost:8080/",
          "height": 372
        },
        "outputId": "0bac1744-b102-4f0e-d0bb-1ac95b0ba215"
      },
      "source": [
        "summation = 0\n",
        "for i in range(0,10) :\n",
        "  print(str(i))\n",
        "  summation = summation + 1\n",
        "  print(summation)"
      ],
      "execution_count": 30,
      "outputs": [
        {
          "output_type": "stream",
          "text": [
            "0\n",
            "1\n",
            "1\n",
            "2\n",
            "2\n",
            "3\n",
            "3\n",
            "4\n",
            "4\n",
            "5\n",
            "5\n",
            "6\n",
            "6\n",
            "7\n",
            "7\n",
            "8\n",
            "8\n",
            "9\n",
            "9\n",
            "10\n"
          ],
          "name": "stdout"
        }
      ]
    },
    {
      "cell_type": "code",
      "metadata": {
        "id": "ddOng1rIqxui",
        "colab_type": "code",
        "colab": {
          "base_uri": "https://localhost:8080/",
          "height": 176
        },
        "outputId": "83ff0ac0-e9fb-4460-fd9a-fbe20e1d942c"
      },
      "source": [
        "summation = 5\n",
        "for i in range(1,10) :\n",
        "   result = summation + i\n",
        "   print(result)"
      ],
      "execution_count": 42,
      "outputs": [
        {
          "output_type": "stream",
          "text": [
            "6\n",
            "7\n",
            "8\n",
            "9\n",
            "10\n",
            "11\n",
            "12\n",
            "13\n",
            "14\n"
          ],
          "name": "stdout"
        }
      ]
    },
    {
      "cell_type": "markdown",
      "metadata": {
        "id": "wnWKWAB1vZ4c",
        "colab_type": "text"
      },
      "source": [
        "#NumPy"
      ]
    },
    {
      "cell_type": "markdown",
      "metadata": {
        "id": "7mLvr9fw519d",
        "colab_type": "text"
      },
      "source": [
        ""
      ]
    },
    {
      "cell_type": "code",
      "metadata": {
        "id": "6c90Fc8gsqJ3",
        "colab_type": "code",
        "colab": {}
      },
      "source": [
        "import numpy as np\n"
      ],
      "execution_count": 0,
      "outputs": []
    },
    {
      "cell_type": "code",
      "metadata": {
        "id": "AaUjxJ4MvkDQ",
        "colab_type": "code",
        "colab": {
          "base_uri": "https://localhost:8080/",
          "height": 34
        },
        "outputId": "c5ea177f-a557-4446-e028-f64956e12836"
      },
      "source": [
        "number = [1,2,3,4,5,6]\n",
        "np_array = np.array(1)\n",
        "type(np_array)"
      ],
      "execution_count": 47,
      "outputs": [
        {
          "output_type": "execute_result",
          "data": {
            "text/plain": [
              "numpy.ndarray"
            ]
          },
          "metadata": {
            "tags": []
          },
          "execution_count": 47
        }
      ]
    },
    {
      "cell_type": "code",
      "metadata": {
        "id": "9AkeOdhDwDxo",
        "colab_type": "code",
        "colab": {}
      },
      "source": [
        ""
      ],
      "execution_count": 0,
      "outputs": []
    },
    {
      "cell_type": "markdown",
      "metadata": {
        "id": "CP8UtfbtwX-p",
        "colab_type": "text"
      },
      "source": [
        "## Ex1\n"
      ]
    },
    {
      "cell_type": "code",
      "metadata": {
        "id": "Kg-fDFFAwZt3",
        "colab_type": "code",
        "colab": {
          "base_uri": "https://localhost:8080/",
          "height": 194
        },
        "outputId": "8c004d47-44c7-438c-a425-0fb3367779ba"
      },
      "source": [
        "np_matrix = np.random.rand(10,5)\n",
        "np_matrix[:,4] = np.random.randint(2,size = 10)\n",
        "np_matrix\n"
      ],
      "execution_count": 82,
      "outputs": [
        {
          "output_type": "execute_result",
          "data": {
            "text/plain": [
              "array([[0.09880362, 0.53451491, 0.14074475, 0.31998284, 1.        ],\n",
              "       [0.57013362, 0.82695066, 0.69438228, 0.62795082, 0.        ],\n",
              "       [0.2872121 , 0.05037056, 0.28937291, 0.95815543, 1.        ],\n",
              "       [0.74877555, 0.37202913, 0.78302205, 0.22867201, 0.        ],\n",
              "       [0.86129141, 0.74881572, 0.44007912, 0.25515416, 0.        ],\n",
              "       [0.95922996, 0.75096905, 0.08811392, 0.13576788, 0.        ],\n",
              "       [0.50360454, 0.02856433, 0.80801289, 0.23309366, 1.        ],\n",
              "       [0.5295816 , 0.68770082, 0.27603879, 0.7125187 , 1.        ],\n",
              "       [0.27742934, 0.52184944, 0.45244297, 0.87819507, 1.        ],\n",
              "       [0.21655409, 0.87044852, 0.67819301, 0.69637007, 1.        ]])"
            ]
          },
          "metadata": {
            "tags": []
          },
          "execution_count": 82
        }
      ]
    },
    {
      "cell_type": "code",
      "metadata": {
        "id": "2heIrV0Cw1WI",
        "colab_type": "code",
        "colab": {}
      },
      "source": [
        "import numpy as np"
      ],
      "execution_count": 0,
      "outputs": []
    },
    {
      "cell_type": "code",
      "metadata": {
        "id": "_2yg7hJPzdLM",
        "colab_type": "code",
        "colab": {}
      },
      "source": [
        ""
      ],
      "execution_count": 0,
      "outputs": []
    },
    {
      "cell_type": "markdown",
      "metadata": {
        "id": "OerHH6NO524F",
        "colab_type": "text"
      },
      "source": [
        "## Ex2"
      ]
    },
    {
      "cell_type": "code",
      "metadata": {
        "id": "oe6u2Gj_56J7",
        "colab_type": "code",
        "colab": {
          "base_uri": "https://localhost:8080/",
          "height": 194
        },
        "outputId": "2134d2aa-ba33-4be7-d000-6faa21be56ad"
      },
      "source": [
        "np_matrix2 = np.random.rand(10,5)\n",
        "np_matrix2\n",
        "\n",
        "\n",
        "\n",
        "\n",
        "\n"
      ],
      "execution_count": 106,
      "outputs": [
        {
          "output_type": "execute_result",
          "data": {
            "text/plain": [
              "array([[0.30500311, 0.7445735 , 0.50076642, 0.64481767, 0.49879072],\n",
              "       [0.16256412, 0.34367951, 0.84021039, 0.16035163, 0.44918899],\n",
              "       [0.8156262 , 0.28364924, 0.81787977, 0.65695796, 0.02064094],\n",
              "       [0.58802242, 0.98486453, 0.81420829, 0.09192746, 0.51746639],\n",
              "       [0.30975081, 0.36317574, 0.97155918, 0.18288863, 0.51421756],\n",
              "       [0.87557973, 0.74464042, 0.71283599, 0.58158465, 0.51673363],\n",
              "       [0.70932094, 0.66793292, 0.66190541, 0.21611782, 0.82193113],\n",
              "       [0.32488615, 0.07716133, 0.57891761, 0.43555419, 0.69774219],\n",
              "       [0.17703988, 0.1786644 , 0.90896041, 0.15967215, 0.80138984],\n",
              "       [0.66983561, 0.84967367, 0.00157144, 0.48404572, 0.33191337]])"
            ]
          },
          "metadata": {
            "tags": []
          },
          "execution_count": 106
        }
      ]
    },
    {
      "cell_type": "code",
      "metadata": {
        "id": "nFlxBVNm6Bi7",
        "colab_type": "code",
        "colab": {
          "base_uri": "https://localhost:8080/",
          "height": 34
        },
        "outputId": "32199e7c-c559-4042-fcb4-0928869ab720"
      },
      "source": [
        "np_matrix3 = np.random.randint(3,size = 10)\n",
        "np_matrix3"
      ],
      "execution_count": 107,
      "outputs": [
        {
          "output_type": "execute_result",
          "data": {
            "text/plain": [
              "array([1, 1, 2, 1, 2, 1, 1, 2, 1, 2])"
            ]
          },
          "metadata": {
            "tags": []
          },
          "execution_count": 107
        }
      ]
    },
    {
      "cell_type": "code",
      "metadata": {
        "id": "ZznzFkms7sN_",
        "colab_type": "code",
        "colab": {
          "base_uri": "https://localhost:8080/",
          "height": 34
        },
        "outputId": "a8b2fa0f-1c0b-43c9-cf9b-8a24ca02b7e4"
      },
      "source": [
        "result = np.where(np_matrix3 == 2)\n",
        "result"
      ],
      "execution_count": 108,
      "outputs": [
        {
          "output_type": "execute_result",
          "data": {
            "text/plain": [
              "(array([2, 4, 7, 9]),)"
            ]
          },
          "metadata": {
            "tags": []
          },
          "execution_count": 108
        }
      ]
    },
    {
      "cell_type": "code",
      "metadata": {
        "id": "1rSR3I0C7_QB",
        "colab_type": "code",
        "colab": {
          "base_uri": "https://localhost:8080/",
          "height": 87
        },
        "outputId": "79905cc1-cced-46e6-8cf0-bfdd4fc07860"
      },
      "source": [
        "np_matrix2[result,:]"
      ],
      "execution_count": 109,
      "outputs": [
        {
          "output_type": "execute_result",
          "data": {
            "text/plain": [
              "array([[[0.8156262 , 0.28364924, 0.81787977, 0.65695796, 0.02064094],\n",
              "        [0.30975081, 0.36317574, 0.97155918, 0.18288863, 0.51421756],\n",
              "        [0.32488615, 0.07716133, 0.57891761, 0.43555419, 0.69774219],\n",
              "        [0.66983561, 0.84967367, 0.00157144, 0.48404572, 0.33191337]]])"
            ]
          },
          "metadata": {
            "tags": []
          },
          "execution_count": 109
        }
      ]
    },
    {
      "cell_type": "code",
      "metadata": {
        "id": "H6h8FyBL8YgB",
        "colab_type": "code",
        "colab": {}
      },
      "source": [
        ""
      ],
      "execution_count": 0,
      "outputs": []
    }
  ]
}