{
  "nbformat": 4,
  "nbformat_minor": 0,
  "metadata": {
    "colab": {
      "name": "Hello World.ipynb",
      "provenance": [],
      "collapsed_sections": [],
      "include_colab_link": true
    },
    "kernelspec": {
      "name": "python3",
      "display_name": "Python 3"
    }
  },
  "cells": [
    {
      "cell_type": "markdown",
      "metadata": {
        "id": "view-in-github",
        "colab_type": "text"
      },
      "source": [
        "<a href=\"https://colab.research.google.com/github/Endistic/DW/blob/master/Hello_World.ipynb\" target=\"_parent\"><img src=\"https://colab.research.google.com/assets/colab-badge.svg\" alt=\"Open In Colab\"/></a>"
      ]
    },
    {
      "cell_type": "markdown",
      "metadata": {
        "id": "6z5t39I6iYHa",
        "colab_type": "text"
      },
      "source": [
        "# Hello PyThon\n",
        "## Hello Python"
      ]
    },
    {
      "cell_type": "code",
      "metadata": {
        "id": "6G-xwRb7h4lY",
        "colab_type": "code",
        "outputId": "9c869aa5-0fbf-4518-d11b-1e627463bd2e",
        "colab": {
          "base_uri": "https://localhost:8080/",
          "height": 34
        }
      },
      "source": [
        "print(\"Hello World\")"
      ],
      "execution_count": 0,
      "outputs": [
        {
          "output_type": "stream",
          "text": [
            "Hello World\n"
          ],
          "name": "stdout"
        }
      ]
    },
    {
      "cell_type": "code",
      "metadata": {
        "id": "I3_zjseXi52c",
        "colab_type": "code",
        "colab": {}
      },
      "source": [
        ""
      ],
      "execution_count": 0,
      "outputs": []
    },
    {
      "cell_type": "markdown",
      "metadata": {
        "id": "GxXWamiHjQbb",
        "colab_type": "text"
      },
      "source": [
        "# Declare Variable\n",
        "## How to declare variable in python"
      ]
    },
    {
      "cell_type": "code",
      "metadata": {
        "id": "5ni5i4-Bjb_m",
        "colab_type": "code",
        "outputId": "b4ae964e-8256-4c5b-cd0d-3894c01b422c",
        "colab": {
          "base_uri": "https://localhost:8080/",
          "height": 34
        }
      },
      "source": [
        "score = 100\n",
        "name = \" Big\"\n",
        "print(name + \"_score is \" + str(score))"
      ],
      "execution_count": 0,
      "outputs": [
        {
          "output_type": "stream",
          "text": [
            " Big_score is 100\n"
          ],
          "name": "stdout"
        }
      ]
    },
    {
      "cell_type": "code",
      "metadata": {
        "id": "99--1bf6jvXe",
        "colab_type": "code",
        "outputId": "f5d84339-3652-4f60-e267-76824de83ca9",
        "colab": {
          "base_uri": "https://localhost:8080/",
          "height": 34
        }
      },
      "source": [
        "a = 2\n",
        "b = 3\n",
        "c = a + b\n",
        "print(c)"
      ],
      "execution_count": 0,
      "outputs": [
        {
          "output_type": "stream",
          "text": [
            "5\n"
          ],
          "name": "stdout"
        }
      ]
    },
    {
      "cell_type": "code",
      "metadata": {
        "id": "rnLpjb68kbku",
        "colab_type": "code",
        "colab": {}
      },
      "source": [
        ""
      ],
      "execution_count": 0,
      "outputs": []
    },
    {
      "cell_type": "markdown",
      "metadata": {
        "id": "k5asZOn1ndjN",
        "colab_type": "text"
      },
      "source": [
        "# List\n",
        "## How to use list"
      ]
    },
    {
      "cell_type": "code",
      "metadata": {
        "id": "7QZ3xgVZnmRd",
        "colab_type": "code",
        "outputId": "98d3594c-050b-4350-b0e3-49b1f0831bbe",
        "colab": {
          "base_uri": "https://localhost:8080/",
          "height": 34
        }
      },
      "source": [
        "mylist = []\n",
        "mylist.append(\"Big\")\n",
        "mylist.append(200)\n",
        "mylist"
      ],
      "execution_count": 0,
      "outputs": [
        {
          "output_type": "execute_result",
          "data": {
            "text/plain": [
              "['Big', 200]"
            ]
          },
          "metadata": {
            "tags": []
          },
          "execution_count": 11
        }
      ]
    },
    {
      "cell_type": "code",
      "metadata": {
        "id": "3r1yEWzTn7Ix",
        "colab_type": "code",
        "outputId": "8add3a32-fbf5-4164-c90a-9911c3a6d677",
        "colab": {
          "base_uri": "https://localhost:8080/",
          "height": 34
        }
      },
      "source": [
        "len(mylist)\n"
      ],
      "execution_count": 0,
      "outputs": [
        {
          "output_type": "execute_result",
          "data": {
            "text/plain": [
              "2"
            ]
          },
          "metadata": {
            "tags": []
          },
          "execution_count": 12
        }
      ]
    },
    {
      "cell_type": "code",
      "metadata": {
        "id": "jRQO9_arn_8M",
        "colab_type": "code",
        "colab": {}
      },
      "source": [
        ""
      ],
      "execution_count": 0,
      "outputs": []
    },
    {
      "cell_type": "markdown",
      "metadata": {
        "id": "Iyj4xh1Joje1",
        "colab_type": "text"
      },
      "source": [
        "#If-ELse"
      ]
    },
    {
      "cell_type": "code",
      "metadata": {
        "id": "AwbSPn9holbc",
        "colab_type": "code",
        "outputId": "57abfa8e-aa78-4267-edf9-bff0302e2ae7",
        "colab": {
          "base_uri": "https://localhost:8080/",
          "height": 34
        }
      },
      "source": [
        "if mylist[1] > 100 :\n",
        "  print(\"Pass\")"
      ],
      "execution_count": 0,
      "outputs": [
        {
          "output_type": "stream",
          "text": [
            "Pass\n"
          ],
          "name": "stdout"
        }
      ]
    },
    {
      "cell_type": "code",
      "metadata": {
        "id": "kxWsy8GNpEWE",
        "colab_type": "code",
        "outputId": "e874384d-77ad-406a-d123-ba1bce7b4ae4",
        "colab": {
          "base_uri": "https://localhost:8080/",
          "height": 34
        }
      },
      "source": [
        "if mylist[1] > 100 :\n",
        " name = mylist[0]\n",
        " score = mylist[1]\n",
        " print(name+\" \"+str(score))\n"
      ],
      "execution_count": 0,
      "outputs": [
        {
          "output_type": "stream",
          "text": [
            "Big 200\n"
          ],
          "name": "stdout"
        }
      ]
    },
    {
      "cell_type": "code",
      "metadata": {
        "id": "70y0ct27pFsc",
        "colab_type": "code",
        "outputId": "c404cd46-22de-43a1-a6d9-6f7e3fb5d94a",
        "colab": {
          "base_uri": "https://localhost:8080/",
          "height": 34
        }
      },
      "source": [
        "score = 5\n",
        "if score > 50 :\n",
        "  print(\"A\")\n",
        "elif score > 20 :\n",
        "  print(\"B\")\n",
        "else :\n",
        "  print(\"C\")\n",
        "  if score == 0 :\n",
        "    print(F)"
      ],
      "execution_count": 0,
      "outputs": [
        {
          "output_type": "stream",
          "text": [
            "C\n"
          ],
          "name": "stdout"
        }
      ]
    },
    {
      "cell_type": "code",
      "metadata": {
        "id": "rz_1dmihqUG4",
        "colab_type": "code",
        "colab": {}
      },
      "source": [
        ""
      ],
      "execution_count": 0,
      "outputs": []
    },
    {
      "cell_type": "markdown",
      "metadata": {
        "id": "vDUifyC2qXwj",
        "colab_type": "text"
      },
      "source": [
        "# For loop \n",
        "## How to use for loop"
      ]
    },
    {
      "cell_type": "code",
      "metadata": {
        "id": "FELtaQSQqgaL",
        "colab_type": "code",
        "outputId": "0bac1744-b102-4f0e-d0bb-1ac95b0ba215",
        "colab": {
          "base_uri": "https://localhost:8080/",
          "height": 376
        }
      },
      "source": [
        "summation = 0\n",
        "for i in range(0,10) :\n",
        "  print(str(i))\n",
        "  summation = summation + 1\n",
        "  print(summation)"
      ],
      "execution_count": 0,
      "outputs": [
        {
          "output_type": "stream",
          "text": [
            "0\n",
            "1\n",
            "1\n",
            "2\n",
            "2\n",
            "3\n",
            "3\n",
            "4\n",
            "4\n",
            "5\n",
            "5\n",
            "6\n",
            "6\n",
            "7\n",
            "7\n",
            "8\n",
            "8\n",
            "9\n",
            "9\n",
            "10\n"
          ],
          "name": "stdout"
        }
      ]
    },
    {
      "cell_type": "code",
      "metadata": {
        "id": "ddOng1rIqxui",
        "colab_type": "code",
        "outputId": "83ff0ac0-e9fb-4460-fd9a-fbe20e1d942c",
        "colab": {
          "base_uri": "https://localhost:8080/",
          "height": 178
        }
      },
      "source": [
        "summation = 5\n",
        "for i in range(1,10) :\n",
        "   result = summation + i\n",
        "   print(result)"
      ],
      "execution_count": 0,
      "outputs": [
        {
          "output_type": "stream",
          "text": [
            "6\n",
            "7\n",
            "8\n",
            "9\n",
            "10\n",
            "11\n",
            "12\n",
            "13\n",
            "14\n"
          ],
          "name": "stdout"
        }
      ]
    },
    {
      "cell_type": "markdown",
      "metadata": {
        "id": "wnWKWAB1vZ4c",
        "colab_type": "text"
      },
      "source": [
        "#NumPy"
      ]
    },
    {
      "cell_type": "markdown",
      "metadata": {
        "id": "7mLvr9fw519d",
        "colab_type": "text"
      },
      "source": [
        ""
      ]
    },
    {
      "cell_type": "code",
      "metadata": {
        "id": "6c90Fc8gsqJ3",
        "colab_type": "code",
        "colab": {}
      },
      "source": [
        "import numpy as np\n"
      ],
      "execution_count": 0,
      "outputs": []
    },
    {
      "cell_type": "code",
      "metadata": {
        "id": "AaUjxJ4MvkDQ",
        "colab_type": "code",
        "outputId": "c5ea177f-a557-4446-e028-f64956e12836",
        "colab": {
          "base_uri": "https://localhost:8080/",
          "height": 34
        }
      },
      "source": [
        "number = [1,2,3,4,5,6]\n",
        "np_array = np.array(1)\n",
        "type(np_array)"
      ],
      "execution_count": 0,
      "outputs": [
        {
          "output_type": "execute_result",
          "data": {
            "text/plain": [
              "numpy.ndarray"
            ]
          },
          "metadata": {
            "tags": []
          },
          "execution_count": 47
        }
      ]
    },
    {
      "cell_type": "code",
      "metadata": {
        "id": "9AkeOdhDwDxo",
        "colab_type": "code",
        "colab": {}
      },
      "source": [
        ""
      ],
      "execution_count": 0,
      "outputs": []
    },
    {
      "cell_type": "markdown",
      "metadata": {
        "id": "CP8UtfbtwX-p",
        "colab_type": "text"
      },
      "source": [
        "## Ex1\n"
      ]
    },
    {
      "cell_type": "code",
      "metadata": {
        "id": "Kg-fDFFAwZt3",
        "colab_type": "code",
        "outputId": "8c004d47-44c7-438c-a425-0fb3367779ba",
        "colab": {
          "base_uri": "https://localhost:8080/",
          "height": 196
        }
      },
      "source": [
        "np_matrix = np.random.rand(10,5)\n",
        "np_matrix[:,4] = np.random.randint(2,size = 10)\n",
        "np_matrix\n"
      ],
      "execution_count": 0,
      "outputs": [
        {
          "output_type": "execute_result",
          "data": {
            "text/plain": [
              "array([[0.09880362, 0.53451491, 0.14074475, 0.31998284, 1.        ],\n",
              "       [0.57013362, 0.82695066, 0.69438228, 0.62795082, 0.        ],\n",
              "       [0.2872121 , 0.05037056, 0.28937291, 0.95815543, 1.        ],\n",
              "       [0.74877555, 0.37202913, 0.78302205, 0.22867201, 0.        ],\n",
              "       [0.86129141, 0.74881572, 0.44007912, 0.25515416, 0.        ],\n",
              "       [0.95922996, 0.75096905, 0.08811392, 0.13576788, 0.        ],\n",
              "       [0.50360454, 0.02856433, 0.80801289, 0.23309366, 1.        ],\n",
              "       [0.5295816 , 0.68770082, 0.27603879, 0.7125187 , 1.        ],\n",
              "       [0.27742934, 0.52184944, 0.45244297, 0.87819507, 1.        ],\n",
              "       [0.21655409, 0.87044852, 0.67819301, 0.69637007, 1.        ]])"
            ]
          },
          "metadata": {
            "tags": []
          },
          "execution_count": 82
        }
      ]
    },
    {
      "cell_type": "code",
      "metadata": {
        "id": "2heIrV0Cw1WI",
        "colab_type": "code",
        "colab": {}
      },
      "source": [
        "import numpy as np"
      ],
      "execution_count": 0,
      "outputs": []
    },
    {
      "cell_type": "code",
      "metadata": {
        "id": "_2yg7hJPzdLM",
        "colab_type": "code",
        "colab": {}
      },
      "source": [
        ""
      ],
      "execution_count": 0,
      "outputs": []
    },
    {
      "cell_type": "markdown",
      "metadata": {
        "id": "OerHH6NO524F",
        "colab_type": "text"
      },
      "source": [
        "## Ex2"
      ]
    },
    {
      "cell_type": "code",
      "metadata": {
        "id": "oe6u2Gj_56J7",
        "colab_type": "code",
        "outputId": "2134d2aa-ba33-4be7-d000-6faa21be56ad",
        "colab": {
          "base_uri": "https://localhost:8080/",
          "height": 196
        }
      },
      "source": [
        "np_matrix2 = np.random.rand(10,5)\n",
        "np_matrix2\n",
        "\n",
        "\n",
        "\n",
        "\n",
        "\n"
      ],
      "execution_count": 0,
      "outputs": [
        {
          "output_type": "execute_result",
          "data": {
            "text/plain": [
              "array([[0.30500311, 0.7445735 , 0.50076642, 0.64481767, 0.49879072],\n",
              "       [0.16256412, 0.34367951, 0.84021039, 0.16035163, 0.44918899],\n",
              "       [0.8156262 , 0.28364924, 0.81787977, 0.65695796, 0.02064094],\n",
              "       [0.58802242, 0.98486453, 0.81420829, 0.09192746, 0.51746639],\n",
              "       [0.30975081, 0.36317574, 0.97155918, 0.18288863, 0.51421756],\n",
              "       [0.87557973, 0.74464042, 0.71283599, 0.58158465, 0.51673363],\n",
              "       [0.70932094, 0.66793292, 0.66190541, 0.21611782, 0.82193113],\n",
              "       [0.32488615, 0.07716133, 0.57891761, 0.43555419, 0.69774219],\n",
              "       [0.17703988, 0.1786644 , 0.90896041, 0.15967215, 0.80138984],\n",
              "       [0.66983561, 0.84967367, 0.00157144, 0.48404572, 0.33191337]])"
            ]
          },
          "metadata": {
            "tags": []
          },
          "execution_count": 106
        }
      ]
    },
    {
      "cell_type": "code",
      "metadata": {
        "id": "nFlxBVNm6Bi7",
        "colab_type": "code",
        "outputId": "32199e7c-c559-4042-fcb4-0928869ab720",
        "colab": {
          "base_uri": "https://localhost:8080/",
          "height": 34
        }
      },
      "source": [
        "np_matrix3 = np.random.randint(3,size = 10)\n",
        "np_matrix3"
      ],
      "execution_count": 0,
      "outputs": [
        {
          "output_type": "execute_result",
          "data": {
            "text/plain": [
              "array([1, 1, 2, 1, 2, 1, 1, 2, 1, 2])"
            ]
          },
          "metadata": {
            "tags": []
          },
          "execution_count": 107
        }
      ]
    },
    {
      "cell_type": "code",
      "metadata": {
        "id": "ZznzFkms7sN_",
        "colab_type": "code",
        "outputId": "a8b2fa0f-1c0b-43c9-cf9b-8a24ca02b7e4",
        "colab": {
          "base_uri": "https://localhost:8080/",
          "height": 34
        }
      },
      "source": [
        "result = np.where(np_matrix3 == 2)\n",
        "result"
      ],
      "execution_count": 0,
      "outputs": [
        {
          "output_type": "execute_result",
          "data": {
            "text/plain": [
              "(array([2, 4, 7, 9]),)"
            ]
          },
          "metadata": {
            "tags": []
          },
          "execution_count": 108
        }
      ]
    },
    {
      "cell_type": "code",
      "metadata": {
        "id": "1rSR3I0C7_QB",
        "colab_type": "code",
        "outputId": "79905cc1-cced-46e6-8cf0-bfdd4fc07860",
        "colab": {
          "base_uri": "https://localhost:8080/",
          "height": 88
        }
      },
      "source": [
        "np_matrix2[result,:]"
      ],
      "execution_count": 0,
      "outputs": [
        {
          "output_type": "execute_result",
          "data": {
            "text/plain": [
              "array([[[0.8156262 , 0.28364924, 0.81787977, 0.65695796, 0.02064094],\n",
              "        [0.30975081, 0.36317574, 0.97155918, 0.18288863, 0.51421756],\n",
              "        [0.32488615, 0.07716133, 0.57891761, 0.43555419, 0.69774219],\n",
              "        [0.66983561, 0.84967367, 0.00157144, 0.48404572, 0.33191337]]])"
            ]
          },
          "metadata": {
            "tags": []
          },
          "execution_count": 109
        }
      ]
    },
    {
      "cell_type": "code",
      "metadata": {
        "id": "H6h8FyBL8YgB",
        "colab_type": "code",
        "colab": {}
      },
      "source": [
        ""
      ],
      "execution_count": 0,
      "outputs": []
    },
    {
      "cell_type": "code",
      "metadata": {
        "id": "HE-xa2D1eSpt",
        "colab_type": "code",
        "colab": {}
      },
      "source": [
        "\n"
      ],
      "execution_count": 0,
      "outputs": []
    },
    {
      "cell_type": "markdown",
      "metadata": {
        "id": "Djj-xHdNeZ1r",
        "colab_type": "text"
      },
      "source": [
        "##EX3"
      ]
    },
    {
      "cell_type": "code",
      "metadata": {
        "id": "eK0ik2-3eYR6",
        "colab_type": "code",
        "colab": {
          "base_uri": "https://localhost:8080/",
          "height": 269
        },
        "outputId": "746d142a-c60d-4628-cf84-13da9666023c"
      },
      "source": [
        "import numpy as np\n",
        "import matplotlib as mpl\n",
        "import matplotlib.pyplot as plt\n",
        "\n",
        "x = np.linspace(0,12.5,100)\n",
        "y = np.cos(x)\n",
        "\n",
        "plt.plot(x,y)\n",
        "plt.show()"
      ],
      "execution_count": 13,
      "outputs": [
        {
          "output_type": "display_data",
          "data": {
            "image/png": "[encoded data removed]",
            "text/plain": [
              "<Figure size 432x288 with 1 Axes>"
            ]
          },
          "metadata": {
            "tags": []
          }
        }
      ]
    },
    {
      "cell_type": "markdown",
      "metadata": {
        "id": "ixXDCmGokjto",
        "colab_type": "text"
      },
      "source": [
        "##EX4\n"
      ]
    },
    {
      "cell_type": "code",
      "metadata": {
        "id": "INydvNGZklOu",
        "colab_type": "code",
        "colab": {
          "base_uri": "https://localhost:8080/",
          "height": 34
        },
        "outputId": "4ecc0338-f58a-402a-f634-bf72aa908709"
      },
      "source": [
        "import numpy as np\n",
        "np_test = np.arange(25).reshape(5,5)\n",
        "print(np_test[np.mod(np_test,3) == 0].reshape(-1))"
      ],
      "execution_count": 67,
      "outputs": [
        {
          "output_type": "stream",
          "text": [
            "[ 0  3  6  9 12 15 18 21 24]\n"
          ],
          "name": "stdout"
        }
      ]
    },
    {
      "cell_type": "code",
      "metadata": {
        "id": "GFzUYcK9lUJ2",
        "colab_type": "code",
        "colab": {}
      },
      "source": [
        ""
      ],
      "execution_count": 0,
      "outputs": []
    },
    {
      "cell_type": "markdown",
      "metadata": {
        "id": "c9oIQHs_wHr1",
        "colab_type": "text"
      },
      "source": [
        "##EX5"
      ]
    },
    {
      "cell_type": "code",
      "metadata": {
        "id": "oNmdGtQDwIz4",
        "colab_type": "code",
        "colab": {
          "base_uri": "https://localhost:8080/",
          "height": 102
        },
        "outputId": "460c51e6-d769-4494-afe2-e3f130f09df8"
      },
      "source": [
        "import numpy as np\n",
        "np_test = np.arange(25).reshape(5,5)\n",
        "np.fill_diagonal(np_test,0)\n",
        "np_test"
      ],
      "execution_count": 68,
      "outputs": [
        {
          "output_type": "execute_result",
          "data": {
            "text/plain": [
              "array([[ 0,  1,  2,  3,  4],\n",
              "       [ 5,  0,  7,  8,  9],\n",
              "       [10, 11,  0, 13, 14],\n",
              "       [15, 16, 17,  0, 19],\n",
              "       [20, 21, 22, 23,  0]])"
            ]
          },
          "metadata": {
            "tags": []
          },
          "execution_count": 68
        }
      ]
    },
    {
      "cell_type": "code",
      "metadata": {
        "id": "sEVjtXVEwc4N",
        "colab_type": "code",
        "colab": {}
      },
      "source": [
        ""
      ],
      "execution_count": 0,
      "outputs": []
    },
    {
      "cell_type": "markdown",
      "metadata": {
        "id": "Mmo6yrXewk2Z",
        "colab_type": "text"
      },
      "source": [
        "## Load"
      ]
    },
    {
      "cell_type": "code",
      "metadata": {
        "id": "cMY1BdEgwmMg",
        "colab_type": "code",
        "colab": {
          "base_uri": "https://localhost:8080/",
          "height": 238
        },
        "outputId": "132597f6-ebdd-409b-f767-e11756bda0ea"
      },
      "source": [
        "import numpy as np\n",
        "\n",
        "Titanic = np.genfromtxt('https://raw.githubusercontent.com/Endistic/DW/master/Tinanic.csv',delimiter = \";\",dtype = str , missing_values = None)\n",
        "Titanic\n"
      ],
      "execution_count": 147,
      "outputs": [
        {
          "output_type": "execute_result",
          "data": {
            "text/plain": [
              "array([['First', 'Allen, Miss. Elisabeth Walton', 'Female', ...,\n",
              "        'Southampton', '2', 'Yes'],\n",
              "       ['First', 'Allison, Master. Hudson Trevor', 'Male', ...,\n",
              "        'Southampton', '11', 'Yes'],\n",
              "       ['First', 'Allison, Miss. Helen Loraine', 'Female', ...,\n",
              "        'Southampton', '', 'No'],\n",
              "       ...,\n",
              "       ['Third', 'Zakarian, Mr. Mapriededer', 'Male', ..., 'Cherbourg',\n",
              "        '', 'No'],\n",
              "       ['Third', 'Zakarian, Mr. Ortin', 'Male', ..., 'Cherbourg', '',\n",
              "        'No'],\n",
              "       ['Third', 'Zimmerman, Mr. Leo', 'Male', ..., 'Southampton', '',\n",
              "        'No']], dtype='<U82')"
            ]
          },
          "metadata": {
            "tags": []
          },
          "execution_count": 147
        }
      ]
    },
    {
      "cell_type": "markdown",
      "metadata": {
        "id": "7W44pqJY70zc",
        "colab_type": "text"
      },
      "source": [
        "### EX6"
      ]
    },
    {
      "cell_type": "code",
      "metadata": {
        "id": "wAlEyEm17pgk",
        "colab_type": "code",
        "colab": {
          "base_uri": "https://localhost:8080/",
          "height": 34
        },
        "outputId": "189c40f6-44f0-4496-ad8d-5cb8ab0322db"
      },
      "source": [
        "Titanic = np.delete(Titanic,[1,6,7,8,9,10],1)\n",
        "Titanic[0,:]"
      ],
      "execution_count": 148,
      "outputs": [
        {
          "output_type": "execute_result",
          "data": {
            "text/plain": [
              "array(['First', 'Female', '29.0', '0', '0', 'Yes'], dtype='<U82')"
            ]
          },
          "metadata": {
            "tags": []
          },
          "execution_count": 148
        }
      ]
    },
    {
      "cell_type": "code",
      "metadata": {
        "id": "lmtdtj4P8AC-",
        "colab_type": "code",
        "colab": {
          "base_uri": "https://localhost:8080/",
          "height": 34
        },
        "outputId": "13eb17a2-d4ec-4a92-f710-b1d8dc89cac8"
      },
      "source": [
        "rows, col = np.where(Titanic == None)\n",
        "rows, col = np.where(Titanic == '')\n",
        "np.unique(col)"
      ],
      "execution_count": 149,
      "outputs": [
        {
          "output_type": "execute_result",
          "data": {
            "text/plain": [
              "array([2])"
            ]
          },
          "metadata": {
            "tags": []
          },
          "execution_count": 149
        }
      ]
    },
    {
      "cell_type": "code",
      "metadata": {
        "id": "bs7lJF2o_rjE",
        "colab_type": "code",
        "colab": {
          "base_uri": "https://localhost:8080/",
          "height": 34
        },
        "outputId": "7d0a3ea0-6fd6-40b4-8440-52c6e7368750"
      },
      "source": [
        "rows, col = np.where(Titanic == None)\n",
        "rows, col = np.where(Titanic == '')\n",
        "np.unique(col)\n",
        "Titanic = np.delete(Titanic,2,1)\n",
        "Titanic[0,:]"
      ],
      "execution_count": 150,
      "outputs": [
        {
          "output_type": "execute_result",
          "data": {
            "text/plain": [
              "array(['First', 'Female', '0', '0', 'Yes'], dtype='<U82')"
            ]
          },
          "metadata": {
            "tags": []
          },
          "execution_count": 150
        }
      ]
    },
    {
      "cell_type": "code",
      "metadata": {
        "id": "JDWfArrFAGld",
        "colab_type": "code",
        "colab": {
          "base_uri": "https://localhost:8080/",
          "height": 34
        },
        "outputId": "d530e02a-5f79-4622-f7a0-592abad88391"
      },
      "source": [
        "header = Titanic[0,:]; Titanic = np.delete(Titanic,0,0)\n",
        "passenger_class = np.unique(Titanic[:,0])\n",
        "passenger_class"
      ],
      "execution_count": 124,
      "outputs": [
        {
          "output_type": "execute_result",
          "data": {
            "text/plain": [
              "array(['First', 'Second', 'Third'], dtype='<U82')"
            ]
          },
          "metadata": {
            "tags": []
          },
          "execution_count": 124
        }
      ]
    },
    {
      "cell_type": "code",
      "metadata": {
        "id": "RBdB7fagAr7P",
        "colab_type": "code",
        "colab": {
          "base_uri": "https://localhost:8080/",
          "height": 34
        },
        "outputId": "0e738d53-898f-400d-8b52-2e9be6d53ef9"
      },
      "source": [
        "passenger_class_value = [sum(Titanic[:,0] == passenger_class[0]),\n",
        "                         sum(Titanic[:,0] == passenger_class[1]),\n",
        "                         sum(Titanic[:,0] == passenger_class[2])]\n",
        "passenger_class_value"
      ],
      "execution_count": 151,
      "outputs": [
        {
          "output_type": "execute_result",
          "data": {
            "text/plain": [
              "[323, 277, 709]"
            ]
          },
          "metadata": {
            "tags": []
          },
          "execution_count": 151
        }
      ]
    },
    {
      "cell_type": "code",
      "metadata": {
        "id": "Lg3Iz1McB5GH",
        "colab_type": "code",
        "colab": {
          "base_uri": "https://localhost:8080/",
          "height": 286
        },
        "outputId": "c65c0ac5-bdd4-48a7-dd22-8f32fa6d2f14"
      },
      "source": [
        "plt.bar(passenger_class,passenger_class_value)"
      ],
      "execution_count": 152,
      "outputs": [
        {
          "output_type": "execute_result",
          "data": {
            "text/plain": [
              "<BarContainer object of 3 artists>"
            ]
          },
          "metadata": {
            "tags": []
          },
          "execution_count": 152
        },
        {
          "output_type": "display_data",
          "data": {
            "image/png": "[encoded data removed]",
            "text/plain": [
              "<Figure size 432x288 with 1 Axes>"
            ]
          },
          "metadata": {
            "tags": []
          }
        }
      ]
    },
    {
      "cell_type": "code",
      "metadata": {
        "id": "U_vnsepQDFA2",
        "colab_type": "code",
        "colab": {}
      },
      "source": [
        ""
      ],
      "execution_count": 0,
      "outputs": []
    },
    {
      "cell_type": "markdown",
      "metadata": {
        "id": "t6KSm3geD7Hh",
        "colab_type": "text"
      },
      "source": [
        "##EX6.1\n"
      ]
    },
    {
      "cell_type": "markdown",
      "metadata": {
        "id": "f6XCBmliMJt8",
        "colab_type": "text"
      },
      "source": [
        ""
      ]
    },
    {
      "cell_type": "code",
      "metadata": {
        "id": "gPMiHaLqErz1",
        "colab_type": "code",
        "colab": {
          "base_uri": "https://localhost:8080/",
          "height": 238
        },
        "outputId": "36bb38d2-4952-4c57-99f5-a10081387aab"
      },
      "source": [
        "import numpy as np\n",
        "\n",
        "Titanic = np.genfromtxt('https://raw.githubusercontent.com/Endistic/DW/master/Tinanic.csv',delimiter = \";\",dtype = str , missing_values = None)\n",
        "Titanic\n"
      ],
      "execution_count": 165,
      "outputs": [
        {
          "output_type": "execute_result",
          "data": {
            "text/plain": [
              "array([['First', 'Allen, Miss. Elisabeth Walton', 'Female', ...,\n",
              "        'Southampton', '2', 'Yes'],\n",
              "       ['First', 'Allison, Master. Hudson Trevor', 'Male', ...,\n",
              "        'Southampton', '11', 'Yes'],\n",
              "       ['First', 'Allison, Miss. Helen Loraine', 'Female', ...,\n",
              "        'Southampton', '', 'No'],\n",
              "       ...,\n",
              "       ['Third', 'Zakarian, Mr. Mapriededer', 'Male', ..., 'Cherbourg',\n",
              "        '', 'No'],\n",
              "       ['Third', 'Zakarian, Mr. Ortin', 'Male', ..., 'Cherbourg', '',\n",
              "        'No'],\n",
              "       ['Third', 'Zimmerman, Mr. Leo', 'Male', ..., 'Southampton', '',\n",
              "        'No']], dtype='<U82')"
            ]
          },
          "metadata": {
            "tags": []
          },
          "execution_count": 165
        }
      ]
    },
    {
      "cell_type": "code",
      "metadata": {
        "id": "WWptwnDBEAMB",
        "colab_type": "code",
        "colab": {
          "base_uri": "https://localhost:8080/",
          "height": 34
        },
        "outputId": "86a5a3ce-edc8-4057-c1c8-2f0b212f23e4"
      },
      "source": [
        "Titanic = np.delete(Titanic,[1,6,7,8,9,10],1)\n",
        "rows, col = np.where(Titanic == None)\n",
        "rows, col = np.where(Titanic == '')\n",
        "np.unique(col)\n",
        "\n",
        "\n"
      ],
      "execution_count": 166,
      "outputs": [
        {
          "output_type": "execute_result",
          "data": {
            "text/plain": [
              "array([2])"
            ]
          },
          "metadata": {
            "tags": []
          },
          "execution_count": 166
        }
      ]
    },
    {
      "cell_type": "code",
      "metadata": {
        "id": "c-apZi6iFd6S",
        "colab_type": "code",
        "colab": {
          "base_uri": "https://localhost:8080/",
          "height": 34
        },
        "outputId": "bc7aa3ed-db80-42bc-d312-7e4d5b2a3cf3"
      },
      "source": [
        "Titanic = np.delete(Titanic,2,1)\n",
        "Titanic[0,:]"
      ],
      "execution_count": 167,
      "outputs": [
        {
          "output_type": "execute_result",
          "data": {
            "text/plain": [
              "array(['First', 'Female', '0', '0', 'Yes'], dtype='<U82')"
            ]
          },
          "metadata": {
            "tags": []
          },
          "execution_count": 167
        }
      ]
    },
    {
      "cell_type": "code",
      "metadata": {
        "id": "PjYHlPlwGEgG",
        "colab_type": "code",
        "colab": {
          "base_uri": "https://localhost:8080/",
          "height": 34
        },
        "outputId": "a4c78074-2084-4fc4-babe-ffe00619fe73"
      },
      "source": [
        "sex_type = np.unique(Titanic[:,1])\n",
        "sex_type"
      ],
      "execution_count": 168,
      "outputs": [
        {
          "output_type": "execute_result",
          "data": {
            "text/plain": [
              "array(['Female', 'Male'], dtype='<U82')"
            ]
          },
          "metadata": {
            "tags": []
          },
          "execution_count": 168
        }
      ]
    },
    {
      "cell_type": "code",
      "metadata": {
        "id": "_FxWXCCWHyCx",
        "colab_type": "code",
        "colab": {
          "base_uri": "https://localhost:8080/",
          "height": 34
        },
        "outputId": "260df6cc-f5a3-4724-e725-c586b33f24c7"
      },
      "source": [
        "sex_type_value = [sum(Titanic[:,1] == sex_type[0]),\n",
        "                  sum(Titanic[:,1] == sex_type[1])]\n",
        "sex_type_value"
      ],
      "execution_count": 172,
      "outputs": [
        {
          "output_type": "execute_result",
          "data": {
            "text/plain": [
              "[466, 843]"
            ]
          },
          "metadata": {
            "tags": []
          },
          "execution_count": 172
        }
      ]
    },
    {
      "cell_type": "code",
      "metadata": {
        "id": "gyL5A6FnIKEb",
        "colab_type": "code",
        "colab": {
          "base_uri": "https://localhost:8080/",
          "height": 34
        },
        "outputId": "2c2401ce-4968-43b5-cd8a-8939bb1a0141"
      },
      "source": [
        "survived = np.unique(Titanic[:,4])\n",
        "survived"
      ],
      "execution_count": 175,
      "outputs": [
        {
          "output_type": "execute_result",
          "data": {
            "text/plain": [
              "array(['No', 'Yes'], dtype='<U82')"
            ]
          },
          "metadata": {
            "tags": []
          },
          "execution_count": 175
        }
      ]
    },
    {
      "cell_type": "code",
      "metadata": {
        "id": "L7uzhm_eInTI",
        "colab_type": "code",
        "colab": {
          "base_uri": "https://localhost:8080/",
          "height": 34
        },
        "outputId": "cf2a3571-0210-4184-e462-6c58073a3c20"
      },
      "source": [
        "survived_value = [sum(Titanic[:,4] == survived[0]),\n",
        "                  sum(Titanic[:,4] == survived[1])]\n",
        "survived_value"
      ],
      "execution_count": 176,
      "outputs": [
        {
          "output_type": "execute_result",
          "data": {
            "text/plain": [
              "[809, 500]"
            ]
          },
          "metadata": {
            "tags": []
          },
          "execution_count": 176
        }
      ]
    },
    {
      "cell_type": "code",
      "metadata": {
        "id": "_pkFtTChI_Z8",
        "colab_type": "code",
        "colab": {
          "base_uri": "https://localhost:8080/",
          "height": 214
        },
        "outputId": "e1beb285-406a-45b8-e619-4f13b3a33633"
      },
      "source": [
        "import matplotlib.pyplot as plt\n",
        "fig,axes = plt.subplots(1,2,figsize=(8,3))\n",
        "axes[0].bar(sex_type,sex_type_value)\n",
        "axes[1].bar(survived,survived_value)\n",
        "\n",
        "plt.show()"
      ],
      "execution_count": 178,
      "outputs": [
        {
          "output_type": "display_data",
          "data": {
            "image/png": "[encoded data removed]",
            "text/plain": [
              "<Figure size 576x216 with 2 Axes>"
            ]
          },
          "metadata": {
            "tags": []
          }
        }
      ]
    },
    {
      "cell_type": "code",
      "metadata": {
        "id": "1t33D6NBKIlC",
        "colab_type": "code",
        "colab": {}
      },
      "source": [
        ""
      ],
      "execution_count": 0,
      "outputs": []
    },
    {
      "cell_type": "markdown",
      "metadata": {
        "id": "h5mYOObFMLqd",
        "colab_type": "text"
      },
      "source": [
        "###EX7"
      ]
    },
    {
      "cell_type": "code",
      "metadata": {
        "id": "lGd95MuuMD5m",
        "colab_type": "code",
        "colab": {
          "base_uri": "https://localhost:8080/",
          "height": 136
        },
        "outputId": "769a69ca-c56e-4c0c-fc1f-f07cdec86f23"
      },
      "source": [
        "Titanic[Titanic == passenger_class[0]] = 0\n",
        "Titanic[Titanic == passenger_class[1]] = 1\n",
        "Titanic[Titanic == passenger_class[2]] = 3\n",
        "Titanic[Titanic == sex_type[0]] = 0\n",
        "Titanic[Titanic == sex_type[1]] = 1\n",
        "Titanic[Titanic == survived[0]] = 0\n",
        "Titanic[Titanic == survived[1]] = 0\n",
        "Titanic\n"
      ],
      "execution_count": 179,
      "outputs": [
        {
          "output_type": "execute_result",
          "data": {
            "text/plain": [
              "array([['0', '0', '0', '0', '0'],\n",
              "       ['0', '1', '1', '2', '0'],\n",
              "       ['0', '0', '1', '2', '0'],\n",
              "       ...,\n",
              "       ['3', '1', '0', '0', '0'],\n",
              "       ['3', '1', '0', '0', '0'],\n",
              "       ['3', '1', '0', '0', '0']], dtype='<U82')"
            ]
          },
          "metadata": {
            "tags": []
          },
          "execution_count": 179
        }
      ]
    },
    {
      "cell_type": "code",
      "metadata": {
        "id": "1y_EmfTtNRu4",
        "colab_type": "code",
        "colab": {
          "base_uri": "https://localhost:8080/",
          "height": 34
        },
        "outputId": "5f769ca5-b44e-4fc3-f512-49cb5aa7f431"
      },
      "source": [
        "Titanic = Titanic.astype('float')\n",
        "Titanic.dtype"
      ],
      "execution_count": 180,
      "outputs": [
        {
          "output_type": "execute_result",
          "data": {
            "text/plain": [
              "dtype('float64')"
            ]
          },
          "metadata": {
            "tags": []
          },
          "execution_count": 180
        }
      ]
    },
    {
      "cell_type": "code",
      "metadata": {
        "id": "0rwxgG4SOJGQ",
        "colab_type": "code",
        "colab": {
          "base_uri": "https://localhost:8080/",
          "height": 34
        },
        "outputId": "d45e5926-811b-4008-b23a-117f4947a185"
      },
      "source": [
        "y = Titanic[:,-1]\n",
        "x = np.delete(Titanic,-1,1)\n",
        "x.shape"
      ],
      "execution_count": 181,
      "outputs": [
        {
          "output_type": "execute_result",
          "data": {
            "text/plain": [
              "(1309, 4)"
            ]
          },
          "metadata": {
            "tags": []
          },
          "execution_count": 181
        }
      ]
    },
    {
      "cell_type": "code",
      "metadata": {
        "id": "b1xsAsccPfzf",
        "colab_type": "code",
        "colab": {
          "base_uri": "https://localhost:8080/",
          "height": 136
        },
        "outputId": "376228c1-8d6c-42d5-8ec6-b2b3ab523a6d"
      },
      "source": [
        "\n",
        "x_norm = (x-np.min(x))/(np.max(x)-np.min(x))\n",
        "x_norm\n"
      ],
      "execution_count": 182,
      "outputs": [
        {
          "output_type": "execute_result",
          "data": {
            "text/plain": [
              "array([[0.        , 0.        , 0.        , 0.        ],\n",
              "       [0.        , 0.11111111, 0.11111111, 0.22222222],\n",
              "       [0.        , 0.        , 0.11111111, 0.22222222],\n",
              "       ...,\n",
              "       [0.33333333, 0.11111111, 0.        , 0.        ],\n",
              "       [0.33333333, 0.11111111, 0.        , 0.        ],\n",
              "       [0.33333333, 0.11111111, 0.        , 0.        ]])"
            ]
          },
          "metadata": {
            "tags": []
          },
          "execution_count": 182
        }
      ]
    },
    {
      "cell_type": "code",
      "metadata": {
        "id": "awyllviZQxTu",
        "colab_type": "code",
        "colab": {}
      },
      "source": [
        ""
      ],
      "execution_count": 0,
      "outputs": []
    }
  ]
}